{
 "cells": [
  {
   "cell_type": "markdown",
   "id": "9a5d2b9f-49e6-4d7f-8dd8-08b6e4a3107f",
   "metadata": {},
   "source": [
    "### **Introduction** "
   ]
  },
  {
   "cell_type": "markdown",
   "id": "c5f78e7e-86d0-4b69-a254-8f57b32c55a8",
   "metadata": {},
   "source": [
    "1. Read the input from\n",
    "\n",
    "```shell\n",
    "gs://cloud-samples-data/ai-platform-unified/datasets/tabular/petfinder-tabular-classification.csv\n",
    "```\n",
    "\n",
    "and load it in a Pandas Dataframe."
   ]
  },
  {
   "cell_type": "code",
   "execution_count": 4,
   "id": "3eaf4665-8b4a-488b-be16-40a57b3a68e8",
   "metadata": {},
   "outputs": [],
   "source": [
    "import scripts"
   ]
  },
  {
   "cell_type": "code",
   "execution_count": 31,
   "id": "33ccc501-0d0b-4769-b25f-a801fbdee055",
   "metadata": {},
   "outputs": [],
   "source": [
    "from scripts.get_data import load_data"
   ]
  },
  {
   "cell_type": "code",
   "execution_count": 32,
   "id": "7830e951-9b42-4140-a8e0-2e44d325be83",
   "metadata": {
    "tags": []
   },
   "outputs": [
    {
     "name": "stderr",
     "output_type": "stream",
     "text": [
      "2023-05-11 04:41:59,535 [INFO] Loading data from cloud-samples-data/ai-platform-unified/datasets/tabular/petfinder-tabular-classification.csv\n",
      "2023-05-11 04:41:59,537 [INFO] Creating Google Cloud Storage client\n",
      "2023-05-11 04:42:00,909 [INFO] Downloading blob 'ai-platform-unified/datasets/tabular/petfinder-tabular-classification.csv' from bucket 'cloud-samples-data'\n",
      "2023-05-11 04:42:03,195 [INFO] Downloaded blob 'ai-platform-unified/datasets/tabular/petfinder-tabular-classification.csv' successfully\n",
      "2023-05-11 04:42:03,197 [INFO] Reading CSV content from string\n",
      "2023-05-11 04:42:03,230 [INFO] Successfully read CSV content and created DataFrame\n",
      "2023-05-11 04:42:03,231 [INFO] DataFrame shape: (11537, 14)\n",
      "2023-05-11 04:42:03,232 [INFO] DataFrame columns: Index(['Type', 'Age', 'Breed1', 'Gender', 'Color1', 'Color2', 'MaturitySize',\n",
      "       'FurLength', 'Vaccinated', 'Sterilized', 'Health', 'Fee', 'PhotoAmt',\n",
      "       'Adopted'],\n",
      "      dtype='object')\n",
      "2023-05-11 04:42:03,244 [INFO] DataFrame's content:\n",
      "  Type  Age                Breed1  Gender  ...   Health  Fee PhotoAmt Adopted\n",
      "0  Cat    3                 Tabby    Male  ...  Healthy  100        1     Yes\n",
      "1  Cat    1  Domestic Medium Hair    Male  ...  Healthy    0        2     Yes\n",
      "2  Dog    1           Mixed Breed    Male  ...  Healthy    0        7     Yes\n",
      "3  Dog    4           Mixed Breed  Female  ...  Healthy  150        8     Yes\n",
      "4  Dog    1           Mixed Breed    Male  ...  Healthy    0        3     Yes\n",
      "\n",
      "[5 rows x 14 columns]\n",
      "2023-05-11 04:42:03,245 [INFO] Data has been successfully downloaded from cloud-samples-data/ai-platform-unified/datasets/tabular/petfinder-tabular-classification.csv\n"
     ]
    }
   ],
   "source": [
    "df = load_data()"
   ]
  },
  {
   "cell_type": "code",
   "execution_count": 33,
   "id": "8a009538-17f5-4907-ac6b-5018499fcc99",
   "metadata": {},
   "outputs": [
    {
     "data": {
      "text/html": [
       "<div>\n",
       "<style scoped>\n",
       "    .dataframe tbody tr th:only-of-type {\n",
       "        vertical-align: middle;\n",
       "    }\n",
       "\n",
       "    .dataframe tbody tr th {\n",
       "        vertical-align: top;\n",
       "    }\n",
       "\n",
       "    .dataframe thead th {\n",
       "        text-align: right;\n",
       "    }\n",
       "</style>\n",
       "<table border=\"1\" class=\"dataframe\">\n",
       "  <thead>\n",
       "    <tr style=\"text-align: right;\">\n",
       "      <th></th>\n",
       "      <th>Type</th>\n",
       "      <th>Age</th>\n",
       "      <th>Breed1</th>\n",
       "      <th>Gender</th>\n",
       "      <th>Color1</th>\n",
       "      <th>Color2</th>\n",
       "      <th>MaturitySize</th>\n",
       "      <th>FurLength</th>\n",
       "      <th>Vaccinated</th>\n",
       "      <th>Sterilized</th>\n",
       "      <th>Health</th>\n",
       "      <th>Fee</th>\n",
       "      <th>PhotoAmt</th>\n",
       "      <th>Adopted</th>\n",
       "    </tr>\n",
       "  </thead>\n",
       "  <tbody>\n",
       "    <tr>\n",
       "      <th>0</th>\n",
       "      <td>Cat</td>\n",
       "      <td>3</td>\n",
       "      <td>Tabby</td>\n",
       "      <td>Male</td>\n",
       "      <td>Black</td>\n",
       "      <td>White</td>\n",
       "      <td>Small</td>\n",
       "      <td>Short</td>\n",
       "      <td>No</td>\n",
       "      <td>No</td>\n",
       "      <td>Healthy</td>\n",
       "      <td>100</td>\n",
       "      <td>1</td>\n",
       "      <td>Yes</td>\n",
       "    </tr>\n",
       "    <tr>\n",
       "      <th>1</th>\n",
       "      <td>Cat</td>\n",
       "      <td>1</td>\n",
       "      <td>Domestic Medium Hair</td>\n",
       "      <td>Male</td>\n",
       "      <td>Black</td>\n",
       "      <td>Brown</td>\n",
       "      <td>Medium</td>\n",
       "      <td>Medium</td>\n",
       "      <td>Not Sure</td>\n",
       "      <td>Not Sure</td>\n",
       "      <td>Healthy</td>\n",
       "      <td>0</td>\n",
       "      <td>2</td>\n",
       "      <td>Yes</td>\n",
       "    </tr>\n",
       "    <tr>\n",
       "      <th>2</th>\n",
       "      <td>Dog</td>\n",
       "      <td>1</td>\n",
       "      <td>Mixed Breed</td>\n",
       "      <td>Male</td>\n",
       "      <td>Brown</td>\n",
       "      <td>White</td>\n",
       "      <td>Medium</td>\n",
       "      <td>Medium</td>\n",
       "      <td>Yes</td>\n",
       "      <td>No</td>\n",
       "      <td>Healthy</td>\n",
       "      <td>0</td>\n",
       "      <td>7</td>\n",
       "      <td>Yes</td>\n",
       "    </tr>\n",
       "    <tr>\n",
       "      <th>3</th>\n",
       "      <td>Dog</td>\n",
       "      <td>4</td>\n",
       "      <td>Mixed Breed</td>\n",
       "      <td>Female</td>\n",
       "      <td>Black</td>\n",
       "      <td>Brown</td>\n",
       "      <td>Medium</td>\n",
       "      <td>Short</td>\n",
       "      <td>Yes</td>\n",
       "      <td>No</td>\n",
       "      <td>Healthy</td>\n",
       "      <td>150</td>\n",
       "      <td>8</td>\n",
       "      <td>Yes</td>\n",
       "    </tr>\n",
       "    <tr>\n",
       "      <th>4</th>\n",
       "      <td>Dog</td>\n",
       "      <td>1</td>\n",
       "      <td>Mixed Breed</td>\n",
       "      <td>Male</td>\n",
       "      <td>Black</td>\n",
       "      <td>No Color</td>\n",
       "      <td>Medium</td>\n",
       "      <td>Short</td>\n",
       "      <td>No</td>\n",
       "      <td>No</td>\n",
       "      <td>Healthy</td>\n",
       "      <td>0</td>\n",
       "      <td>3</td>\n",
       "      <td>Yes</td>\n",
       "    </tr>\n",
       "  </tbody>\n",
       "</table>\n",
       "</div>"
      ],
      "text/plain": [
       "  Type  Age                Breed1  Gender  ...   Health  Fee PhotoAmt Adopted\n",
       "0  Cat    3                 Tabby    Male  ...  Healthy  100        1     Yes\n",
       "1  Cat    1  Domestic Medium Hair    Male  ...  Healthy    0        2     Yes\n",
       "2  Dog    1           Mixed Breed    Male  ...  Healthy    0        7     Yes\n",
       "3  Dog    4           Mixed Breed  Female  ...  Healthy  150        8     Yes\n",
       "4  Dog    1           Mixed Breed    Male  ...  Healthy    0        3     Yes\n",
       "\n",
       "[5 rows x 14 columns]"
      ]
     },
     "execution_count": 33,
     "metadata": {},
     "output_type": "execute_result"
    }
   ],
   "source": [
    "df.head()"
   ]
  },
  {
   "cell_type": "markdown",
   "id": "028b6b87-88fc-4999-8d7d-1318ba1badff",
   "metadata": {},
   "source": [
    "```Python\n",
    "import io\n",
    "import logging\n",
    "\n",
    "import pandas as pd\n",
    "from google.cloud import storage\n",
    "\n",
    "# Configure logging\n",
    "logging.basicConfig(\n",
    "    level=logging.INFO, format=\"%(asctime)s [%(levelname)s] %(message)s\", handlers=[logging.StreamHandler()],\n",
    ")\n",
    "\n",
    "\n",
    "def create_storage_client():\n",
    "    \"\"\"\n",
    "    Creates a client to interact with the Google Cloud Storage API.\n",
    "\n",
    "    Returns:\n",
    "        storage.Client: An instance of the storage client.\n",
    "    \"\"\"\n",
    "    logging.info(\"Creating Google Cloud Storage client\")\n",
    "    return storage.Client()\n",
    "\n",
    "\n",
    "def download_blob_as_string(storage_client, bucket_name, blob_name):\n",
    "    \"\"\"\n",
    "    Downloads a blob from Google Cloud Storage (GCS) and returns its contents as a string.\n",
    "\n",
    "    Args:\n",
    "        storage_client (storage.Client): The storage client instance.\n",
    "        bucket_name (str): The name of the GCS bucket.\n",
    "        blob_name (str): The name of the blob to download.\n",
    "\n",
    "    Returns:\n",
    "        str: The contents of the blob as a string.\n",
    "    \"\"\"\n",
    "    logging.info(f\"Downloading blob '{blob_name}' from bucket '{bucket_name}'\")\n",
    "    bucket = storage_client.bucket(bucket_name)\n",
    "    blob = bucket.blob(blob_name)\n",
    "    content = blob.download_as_string()\n",
    "    logging.info(f\"Downloaded blob '{blob_name}' successfully\")\n",
    "\n",
    "    return content\n",
    "\n",
    "\n",
    "def read_csv_from_string(csv_string):\n",
    "    \"\"\"\n",
    "    Reads a CSV file from a string and returns its contents as a pandas DataFrame.\n",
    "\n",
    "    Args:\n",
    "        csv_string (str): The string containing the CSV content.\n",
    "\n",
    "    Returns:\n",
    "        pd.DataFrame: The parsed CSV content as a pandas DataFrame.\n",
    "    \"\"\"\n",
    "    logging.info(\"Reading CSV content from string\")\n",
    "    dataframe = pd.read_csv(io.StringIO(csv_string.decode(\"utf-8\")))\n",
    "    logging.info(\"Successfully read CSV content and created DataFrame\")\n",
    "\n",
    "    return dataframe\n",
    "\n",
    "\n",
    "def load_data(\n",
    "    bucket_name=\"cloud-samples-data\",\n",
    "    file_name=\"ai-platform-unified/datasets/tabular/petfinder-tabular-classification.csv\",\n",
    "):\n",
    "    \"\"\"\n",
    "    Main function to demonstrate the usage of the above functions.\n",
    "    \"\"\"\n",
    "    logging.info(f\"Loading data from {bucket_name}/{file_name}\")\n",
    "\n",
    "    storage_client = create_storage_client()\n",
    "    csv_string = download_blob_as_string(storage_client, bucket_name, file_name)\n",
    "    df = read_csv_from_string(csv_string)\n",
    "\n",
    "    logging.info(f\"DataFrame shape: {df.shape}\")\n",
    "    logging.info(f\"DataFrame columns: {df.columns}\")\n",
    "    logging.info(\"DataFrame's content:\\n\" + str(df.head()))\n",
    "\n",
    "    logging.info(f\"Data has been successfully downloaded from {bucket_name}/{file_name}\")\n",
    "    return df\n",
    "\n",
    "\n",
    "if __name__ == \"__main__\":\n",
    "    load_data()\n",
    "\n",
    "\n",
    "```"
   ]
  },
  {
   "cell_type": "code",
   "execution_count": null,
   "id": "54fdcd62-02df-43df-bd46-ba3649583f37",
   "metadata": {},
   "outputs": [],
   "source": []
  },
  {
   "cell_type": "markdown",
   "id": "9b5220a2-7690-41b0-9f92-84c35259da6c",
   "metadata": {},
   "source": [
    "### **Preprocessing**"
   ]
  },
  {
   "cell_type": "markdown",
   "id": "89caab98-2331-4e18-939d-a830334951ad",
   "metadata": {},
   "source": [
    "### Check for class imbalance in target variable"
   ]
  },
  {
   "cell_type": "code",
   "execution_count": 6,
   "id": "cfab11be-c575-447a-9549-62af0e5650e6",
   "metadata": {},
   "outputs": [],
   "source": [
    "import pandas as pd\n",
    "import matplotlib.pyplot as plt"
   ]
  },
  {
   "cell_type": "code",
   "execution_count": 35,
   "id": "ff8b4e86-7f39-4b22-846b-42a90dacb7bc",
   "metadata": {},
   "outputs": [],
   "source": [
    "from scripts.preprocessing import one_hot_encode_columns,label_encode_columns,ordinally_encode_columns,count_encode_column\n",
    "from scripts.config import CONFIG as config"
   ]
  },
  {
   "cell_type": "code",
   "execution_count": 22,
   "id": "2dea937e-8d51-48f4-85ad-b69741e2027d",
   "metadata": {},
   "outputs": [],
   "source": [
    "import pandas as pd\n",
    "import matplotlib.pyplot as plt\n",
    "\n",
    "def plot_class_distribution(df, column):\n",
    "    class_counts = df[column].value_counts()\n",
    "\n",
    "    # Calculate percentages\n",
    "    class_percentages = class_counts / class_counts.sum() * 100\n",
    "\n",
    "    plt.figure(figsize=(5,5))\n",
    "    bars = plt.bar(class_percentages.index, class_percentages.values, width=0.9)\n",
    "\n",
    "    # Remove top and right border\n",
    "    plt.gca().spines['top'].set_visible(False)\n",
    "    plt.gca().spines['right'].set_visible(False)\n",
    "\n",
    "    # Add percentages above the bars\n",
    "    for bar in bars:\n",
    "        yval = bar.get_height()\n",
    "        plt.text(bar.get_x() + bar.get_width()/2, yval + 0.5, f'{yval:.2f}%', ha='center', va='bottom')\n",
    "    \n",
    "    plt.xlabel(column)\n",
    "    plt.ylabel('Percentage')\n",
    "    plt.title(f'Class distribution of the {column} variable (in %)')\n",
    "    plt.show()"
   ]
  },
  {
   "cell_type": "code",
   "execution_count": 23,
   "id": "fd047828-c632-4e54-9271-f119ede711f9",
   "metadata": {},
   "outputs": [
    {
     "data": {
      "image/png": "[encoded data removed]",
      "text/plain": [
       "<Figure size 500x500 with 1 Axes>"
      ]
     },
     "metadata": {},
     "output_type": "display_data"
    }
   ],
   "source": [
    "plot_class_distribution(df, 'Adopted')"
   ]
  },
  {
   "cell_type": "markdown",
   "id": "5f8c422a-4b7c-433b-8ed0-d1acbe59cd65",
   "metadata": {},
   "source": [
    "#### One Hot Encode"
   ]
  },
  {
   "cell_type": "code",
   "execution_count": 24,
   "id": "9bd75c6a-4991-48b7-bd84-5cd1cbac4916",
   "metadata": {},
   "outputs": [],
   "source": [
    "columns_to_one_hot_encode = [\"Type\", \"Gender\"]"
   ]
  },
  {
   "cell_type": "markdown",
   "id": "9373311b-afee-456f-8d5b-5e95b1e5ed2d",
   "metadata": {},
   "source": [
    "OneHotEncoding is a technique for handling categorical variables in ML. I chose it for these two fields\n",
    "because they are nominal(have no inherent ordering). The two fields also have a relatively small number \n",
    "of categories so there won't be an explosion in the cardinality."
   ]
  },
  {
   "cell_type": "code",
   "execution_count": 34,
   "id": "4efd7db0-6781-42ea-bd58-ec3d5e8edd56",
   "metadata": {},
   "outputs": [
    {
     "name": "stderr",
     "output_type": "stream",
     "text": [
      "2023-05-11 04:42:10,148 [INFO] One-hot encoding columns: ['Type', 'Gender']\n"
     ]
    }
   ],
   "source": [
    "df = one_hot_encode_columns(df, config[\"one_hot_encode_columns\"])"
   ]
  },
  {
   "cell_type": "code",
   "execution_count": null,
   "id": "9d6b5a58-4c68-4cc7-93f9-7579f38e038f",
   "metadata": {},
   "outputs": [],
   "source": []
  },
  {
   "cell_type": "markdown",
   "id": "ca078851-9286-49a6-8383-5ccaed8c741d",
   "metadata": {},
   "source": [
    "#### Label Encode"
   ]
  },
  {
   "cell_type": "markdown",
   "id": "a26653a5-7ffd-4472-8c96-2fb3cfb0f322",
   "metadata": {},
   "source": [
    "Here, the categorical values are assigned unique integer values\n",
    " - [\"Vaccinated\", \"Sterilized\", \"Color1\", \"Color2\"]\n",
    "\n",
    "I could have one hot encoded the columns above but I didn't wanted\n",
    "to reduce the number of features fed to the model"
   ]
  },
  {
   "cell_type": "code",
   "execution_count": 36,
   "id": "d36d54ad-f0a7-4c39-9896-81617f246cbb",
   "metadata": {},
   "outputs": [
    {
     "name": "stderr",
     "output_type": "stream",
     "text": [
      "2023-05-11 08:16:24,680 [INFO] Label encoding columns: ['Vaccinated', 'Sterilized', 'Color1', 'Color2']\n"
     ]
    }
   ],
   "source": [
    "df = label_encode_columns(df, config[\"label_encode_columns\"])"
   ]
  },
  {
   "cell_type": "code",
   "execution_count": null,
   "id": "45ab119e-6f8d-4bf1-811e-37fae3d2c535",
   "metadata": {},
   "outputs": [],
   "source": []
  },
  {
   "cell_type": "markdown",
   "id": "1c42e707-ccd3-47f1-b06d-88b6f786431c",
   "metadata": {},
   "source": [
    "#### Ordinal Encoding"
   ]
  },
  {
   "cell_type": "markdown",
   "id": "771b358f-bfd1-402b-863b-ee334c6433c8",
   "metadata": {},
   "source": [
    "Ordinal Encoding is similar to Label Encoding but it's used for ordinal variables, where the order of the categories is important.<br>\n",
    "The integers are assigned in a way that respects the order of the categories. For example, in the category <br>\n",
    "\"Low\", \"Medium\", \"High\", \"Low\" might be encoded as 0, \"Medium\" as 1, and \"High\" as 2.\n",
    "\n",
    "```Python\n",
    "{\n",
    "        \"Health\": [\"Healthy\", \"Minor Injury\", \"Serious Injury\"],\n",
    "        \"FurLength\": [\"Short\", \"Medium\", \"Long\"],\n",
    "        \"MaturitySize\": [\"Small\", \"Medium\", \"Large\"],\n",
    "    },\n",
    "```"
   ]
  },
  {
   "cell_type": "code",
   "execution_count": 37,
   "id": "f839c7ba-b74b-44a8-8cf1-3af2a49f6685",
   "metadata": {},
   "outputs": [
    {
     "name": "stderr",
     "output_type": "stream",
     "text": [
      "2023-05-11 08:22:05,374 [INFO] Ordinally encoding columns: dict_keys(['Health', 'FurLength', 'MaturitySize'])\n"
     ]
    }
   ],
   "source": [
    "df = ordinally_encode_columns(df, config[\"ordinal_encode_columns\"])"
   ]
  },
  {
   "cell_type": "code",
   "execution_count": null,
   "id": "e0bb581b-7ac5-4985-aac9-25ab35bb90aa",
   "metadata": {},
   "outputs": [],
   "source": []
  },
  {
   "cell_type": "markdown",
   "id": "95a3d18d-a0af-42d7-b405-a40604b94a1b",
   "metadata": {},
   "source": [
    "#### Count Encoding"
   ]
  },
  {
   "cell_type": "markdown",
   "id": "6044cc02-0cf7-4d0b-8139-92861ee9b7fe",
   "metadata": {},
   "source": [
    "Count encoding is a technique used for converting categorical data into a form that can be used by machine learning algorithms.<br>\n",
    "With count encoding, each category in a categorical variable is replaced with the count of the number of times the category appears in the dataset."
   ]
  },
  {
   "cell_type": "code",
   "execution_count": 39,
   "id": "c5edb1bb-7936-444d-9966-2857daf54730",
   "metadata": {},
   "outputs": [
    {
     "name": "stderr",
     "output_type": "stream",
     "text": [
      "2023-05-11 08:25:47,683 [INFO] Count encoding column: Breed1\n"
     ]
    }
   ],
   "source": [
    "df = count_encode_column(df, config[\"count_encode_column\"])"
   ]
  },
  {
   "cell_type": "markdown",
   "id": "d9130c5f-4411-4d91-9b2f-1a9470ed01e2",
   "metadata": {},
   "source": [
    "### **Train the model**"
   ]
  },
  {
   "cell_type": "code",
   "execution_count": 41,
   "id": "4073dda4-96e0-48f8-9572-45736cf8a2a2",
   "metadata": {},
   "outputs": [],
   "source": [
    "from scripts.train import split_dataset"
   ]
  },
  {
   "cell_type": "code",
   "execution_count": null,
   "id": "d668b2fb-afee-4ff4-b389-463ed2964fa4",
   "metadata": {},
   "outputs": [],
   "source": []
  }
 ],
 "metadata": {
  "kernelspec": {
   "display_name": "Python 3 (ipykernel)",
   "language": "python",
   "name": "python3"
  },
  "language_info": {
   "codemirror_mode": {
    "name": "ipython",
    "version": 3
   },
   "file_extension": ".py",
   "mimetype": "text/x-python",
   "name": "python",
   "nbconvert_exporter": "python",
   "pygments_lexer": "ipython3",
   "version": "3.10.9"
  }
 },
 "nbformat": 4,
 "nbformat_minor": 5
}
