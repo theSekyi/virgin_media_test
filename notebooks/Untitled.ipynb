{
 "cells": [
  {
   "cell_type": "code",
   "execution_count": null,
   "id": "ff02c86a-a0a1-4abe-82ab-1fde983cd8c4",
   "metadata": {
    "tags": []
   },
   "outputs": [],
   "source": [
    "Given the following recursive function:\n",
    "function limiter(n : Int) : Int\n",
    "if (n == 6)\n",
    "return 3 else\n",
    "return 3 * limiter(n + 1)\n",
    "end if end function\n",
    "The value returned by the function call limiter(5) is\n",
    "The value returned by the function call limiter(3) is"
   ]
  },
  {
   "cell_type": "code",
   "execution_count": 1,
   "id": "aa292f28-51c6-41f0-81e0-19879aa7d1d5",
   "metadata": {},
   "outputs": [],
   "source": [
    "def limiter(n):\n",
    "    if n == 6:\n",
    "        return 3\n",
    "    else:\n",
    "        return 3 * limiter(n+1)\n",
    "    "
   ]
  },
  {
   "cell_type": "code",
   "execution_count": 4,
   "id": "1b285e22-3ae7-45b0-a6d7-6c9fe9a481b6",
   "metadata": {},
   "outputs": [
    {
     "data": {
      "text/plain": [
       "81"
      ]
     },
     "execution_count": 4,
     "metadata": {},
     "output_type": "execute_result"
    }
   ],
   "source": [
    "limiter(3)"
   ]
  },
  {
   "cell_type": "code",
   "execution_count": null,
   "id": "5fe714a3-8641-4865-9dd6-2d7bd5f0f99e",
   "metadata": {},
   "outputs": [],
   "source": []
  }
 ],
 "metadata": {
  "kernelspec": {
   "display_name": "Python 3 (ipykernel)",
   "language": "python",
   "name": "python3"
  },
  "language_info": {
   "codemirror_mode": {
    "name": "ipython",
    "version": 3
   },
   "file_extension": ".py",
   "mimetype": "text/x-python",
   "name": "python",
   "nbconvert_exporter": "python",
   "pygments_lexer": "ipython3",
   "version": "3.10.9"
  }
 },
 "nbformat": 4,
 "nbformat_minor": 5
}
